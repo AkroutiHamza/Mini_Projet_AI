{
  "nbformat": 4,
  "nbformat_minor": 0,
  "metadata": {
    "colab": {
      "name": "Mini_Projet.ipynb",
      "provenance": [],
      "collapsed_sections": []
    },
    "kernelspec": {
      "name": "python3",
      "display_name": "Python 3"
    },
    "language_info": {
      "name": "python"
    }
  },
  "cells": [
    {
      "cell_type": "markdown",
      "metadata": {
        "id": "5GOt5D2Ug_04"
      },
      "source": [
        "#importation Bib"
      ]
    },
    {
      "cell_type": "code",
      "metadata": {
        "id": "zUIbTL6ihCTG"
      },
      "source": [
        "import numpy as np\n",
        "np.set_printoptions(threshold=1000,suppress=True)\n",
        "import pandas as pd\n",
        "import matplotlib.pyplot as plt\n",
        "import warnings\n",
        "warnings.filterwarnings('ignore')"
      ],
      "execution_count": 52,
      "outputs": []
    },
    {
      "cell_type": "markdown",
      "metadata": {
        "id": "DPxBkia_kDOK"
      },
      "source": [
        "#read Data"
      ]
    },
    {
      "cell_type": "code",
      "metadata": {
        "colab": {
          "base_uri": "https://localhost:8080/",
          "height": 175
        },
        "id": "vGOfu9kNkINY",
        "outputId": "d9a74f46-e40b-4d99-f40e-43631643f573"
      },
      "source": [
        "churn = pd.read_csv('./credit_scoring.csv',sep=';',header=0)\n",
        "churn.head(4)"
      ],
      "execution_count": 53,
      "outputs": [
        {
          "output_type": "execute_result",
          "data": {
            "text/plain": [
              "   Seniority  Home  Time   Age  Marital  Records  Job  Expenses  Income  \\\n",
              "0        9.0   1.0  60.0  30.0      0.0      1.0  1.0      73.0   129.0   \n",
              "1       17.0   1.0  60.0  58.0      1.0      1.0  0.0      48.0   131.0   \n",
              "2       10.0   0.0  36.0  46.0      0.0      2.0  1.0      90.0   200.0   \n",
              "3        0.0   1.0  60.0  24.0      1.0      1.0  0.0      63.0   182.0   \n",
              "\n",
              "   Assets  Debt  Amount   Price  Status  \n",
              "0     0.0   0.0   800.0   846.0       1  \n",
              "1     0.0   0.0  1000.0  1658.0       1  \n",
              "2  3000.0   0.0  2000.0  2985.0       0  \n",
              "3  2500.0   0.0   900.0  1325.0       1  "
            ],
            "text/html": [
              "\n",
              "  <div id=\"df-8a0e906c-67c8-41f6-82fe-c555df059859\">\n",
              "    <div class=\"colab-df-container\">\n",
              "      <div>\n",
              "<style scoped>\n",
              "    .dataframe tbody tr th:only-of-type {\n",
              "        vertical-align: middle;\n",
              "    }\n",
              "\n",
              "    .dataframe tbody tr th {\n",
              "        vertical-align: top;\n",
              "    }\n",
              "\n",
              "    .dataframe thead th {\n",
              "        text-align: right;\n",
              "    }\n",
              "</style>\n",
              "<table border=\"1\" class=\"dataframe\">\n",
              "  <thead>\n",
              "    <tr style=\"text-align: right;\">\n",
              "      <th></th>\n",
              "      <th>Seniority</th>\n",
              "      <th>Home</th>\n",
              "      <th>Time</th>\n",
              "      <th>Age</th>\n",
              "      <th>Marital</th>\n",
              "      <th>Records</th>\n",
              "      <th>Job</th>\n",
              "      <th>Expenses</th>\n",
              "      <th>Income</th>\n",
              "      <th>Assets</th>\n",
              "      <th>Debt</th>\n",
              "      <th>Amount</th>\n",
              "      <th>Price</th>\n",
              "      <th>Status</th>\n",
              "    </tr>\n",
              "  </thead>\n",
              "  <tbody>\n",
              "    <tr>\n",
              "      <th>0</th>\n",
              "      <td>9.0</td>\n",
              "      <td>1.0</td>\n",
              "      <td>60.0</td>\n",
              "      <td>30.0</td>\n",
              "      <td>0.0</td>\n",
              "      <td>1.0</td>\n",
              "      <td>1.0</td>\n",
              "      <td>73.0</td>\n",
              "      <td>129.0</td>\n",
              "      <td>0.0</td>\n",
              "      <td>0.0</td>\n",
              "      <td>800.0</td>\n",
              "      <td>846.0</td>\n",
              "      <td>1</td>\n",
              "    </tr>\n",
              "    <tr>\n",
              "      <th>1</th>\n",
              "      <td>17.0</td>\n",
              "      <td>1.0</td>\n",
              "      <td>60.0</td>\n",
              "      <td>58.0</td>\n",
              "      <td>1.0</td>\n",
              "      <td>1.0</td>\n",
              "      <td>0.0</td>\n",
              "      <td>48.0</td>\n",
              "      <td>131.0</td>\n",
              "      <td>0.0</td>\n",
              "      <td>0.0</td>\n",
              "      <td>1000.0</td>\n",
              "      <td>1658.0</td>\n",
              "      <td>1</td>\n",
              "    </tr>\n",
              "    <tr>\n",
              "      <th>2</th>\n",
              "      <td>10.0</td>\n",
              "      <td>0.0</td>\n",
              "      <td>36.0</td>\n",
              "      <td>46.0</td>\n",
              "      <td>0.0</td>\n",
              "      <td>2.0</td>\n",
              "      <td>1.0</td>\n",
              "      <td>90.0</td>\n",
              "      <td>200.0</td>\n",
              "      <td>3000.0</td>\n",
              "      <td>0.0</td>\n",
              "      <td>2000.0</td>\n",
              "      <td>2985.0</td>\n",
              "      <td>0</td>\n",
              "    </tr>\n",
              "    <tr>\n",
              "      <th>3</th>\n",
              "      <td>0.0</td>\n",
              "      <td>1.0</td>\n",
              "      <td>60.0</td>\n",
              "      <td>24.0</td>\n",
              "      <td>1.0</td>\n",
              "      <td>1.0</td>\n",
              "      <td>0.0</td>\n",
              "      <td>63.0</td>\n",
              "      <td>182.0</td>\n",
              "      <td>2500.0</td>\n",
              "      <td>0.0</td>\n",
              "      <td>900.0</td>\n",
              "      <td>1325.0</td>\n",
              "      <td>1</td>\n",
              "    </tr>\n",
              "  </tbody>\n",
              "</table>\n",
              "</div>\n",
              "      <button class=\"colab-df-convert\" onclick=\"convertToInteractive('df-8a0e906c-67c8-41f6-82fe-c555df059859')\"\n",
              "              title=\"Convert this dataframe to an interactive table.\"\n",
              "              style=\"display:none;\">\n",
              "        \n",
              "  <svg xmlns=\"http://www.w3.org/2000/svg\" height=\"24px\"viewBox=\"0 0 24 24\"\n",
              "       width=\"24px\">\n",
              "    <path d=\"M0 0h24v24H0V0z\" fill=\"none\"/>\n",
              "    <path d=\"M18.56 5.44l.94 2.06.94-2.06 2.06-.94-2.06-.94-.94-2.06-.94 2.06-2.06.94zm-11 1L8.5 8.5l.94-2.06 2.06-.94-2.06-.94L8.5 2.5l-.94 2.06-2.06.94zm10 10l.94 2.06.94-2.06 2.06-.94-2.06-.94-.94-2.06-.94 2.06-2.06.94z\"/><path d=\"M17.41 7.96l-1.37-1.37c-.4-.4-.92-.59-1.43-.59-.52 0-1.04.2-1.43.59L10.3 9.45l-7.72 7.72c-.78.78-.78 2.05 0 2.83L4 21.41c.39.39.9.59 1.41.59.51 0 1.02-.2 1.41-.59l7.78-7.78 2.81-2.81c.8-.78.8-2.07 0-2.86zM5.41 20L4 18.59l7.72-7.72 1.47 1.35L5.41 20z\"/>\n",
              "  </svg>\n",
              "      </button>\n",
              "      \n",
              "  <style>\n",
              "    .colab-df-container {\n",
              "      display:flex;\n",
              "      flex-wrap:wrap;\n",
              "      gap: 12px;\n",
              "    }\n",
              "\n",
              "    .colab-df-convert {\n",
              "      background-color: #E8F0FE;\n",
              "      border: none;\n",
              "      border-radius: 50%;\n",
              "      cursor: pointer;\n",
              "      display: none;\n",
              "      fill: #1967D2;\n",
              "      height: 32px;\n",
              "      padding: 0 0 0 0;\n",
              "      width: 32px;\n",
              "    }\n",
              "\n",
              "    .colab-df-convert:hover {\n",
              "      background-color: #E2EBFA;\n",
              "      box-shadow: 0px 1px 2px rgba(60, 64, 67, 0.3), 0px 1px 3px 1px rgba(60, 64, 67, 0.15);\n",
              "      fill: #174EA6;\n",
              "    }\n",
              "\n",
              "    [theme=dark] .colab-df-convert {\n",
              "      background-color: #3B4455;\n",
              "      fill: #D2E3FC;\n",
              "    }\n",
              "\n",
              "    [theme=dark] .colab-df-convert:hover {\n",
              "      background-color: #434B5C;\n",
              "      box-shadow: 0px 1px 3px 1px rgba(0, 0, 0, 0.15);\n",
              "      filter: drop-shadow(0px 1px 2px rgba(0, 0, 0, 0.3));\n",
              "      fill: #FFFFFF;\n",
              "    }\n",
              "  </style>\n",
              "\n",
              "      <script>\n",
              "        const buttonEl =\n",
              "          document.querySelector('#df-8a0e906c-67c8-41f6-82fe-c555df059859 button.colab-df-convert');\n",
              "        buttonEl.style.display =\n",
              "          google.colab.kernel.accessAllowed ? 'block' : 'none';\n",
              "\n",
              "        async function convertToInteractive(key) {\n",
              "          const element = document.querySelector('#df-8a0e906c-67c8-41f6-82fe-c555df059859');\n",
              "          const dataTable =\n",
              "            await google.colab.kernel.invokeFunction('convertToInteractive',\n",
              "                                                     [key], {});\n",
              "          if (!dataTable) return;\n",
              "\n",
              "          const docLinkHtml = 'Like what you see? Visit the ' +\n",
              "            '<a target=\"_blank\" href=https://colab.research.google.com/notebooks/data_table.ipynb>data table notebook</a>'\n",
              "            + ' to learn more about interactive tables.';\n",
              "          element.innerHTML = '';\n",
              "          dataTable['output_type'] = 'display_data';\n",
              "          await google.colab.output.renderOutput(dataTable, element);\n",
              "          const docLink = document.createElement('div');\n",
              "          docLink.innerHTML = docLinkHtml;\n",
              "          element.appendChild(docLink);\n",
              "        }\n",
              "      </script>\n",
              "    </div>\n",
              "  </div>\n",
              "  "
            ]
          },
          "metadata": {},
          "execution_count": 53
        }
      ]
    },
    {
      "cell_type": "markdown",
      "metadata": {
        "id": "KRG-vfThlYTZ"
      },
      "source": [
        "#data dimension"
      ]
    },
    {
      "cell_type": "code",
      "metadata": {
        "id": "16yAv2OllbD0",
        "colab": {
          "base_uri": "https://localhost:8080/"
        },
        "outputId": "c4fb334b-9b29-42c9-81b1-53bbbbc8dcdf"
      },
      "source": [
        "churn.shape"
      ],
      "execution_count": 54,
      "outputs": [
        {
          "output_type": "execute_result",
          "data": {
            "text/plain": [
              "(4375, 14)"
            ]
          },
          "metadata": {},
          "execution_count": 54
        }
      ]
    },
    {
      "cell_type": "markdown",
      "metadata": {
        "id": "7U239E1LmfYP"
      },
      "source": [
        "#séparation donnée x=features y=class exit"
      ]
    },
    {
      "cell_type": "code",
      "metadata": {
        "id": "BZUmB8apmnyT"
      },
      "source": [
        "X=churn.iloc[:, 1:13].values\n",
        "#x tous les features\n",
        "Y = churn.iloc[:, 13].values\n",
        "#y class exit"
      ],
      "execution_count": 55,
      "outputs": []
    },
    {
      "cell_type": "code",
      "metadata": {
        "id": "Wwp-IC-ZnIXh",
        "colab": {
          "base_uri": "https://localhost:8080/"
        },
        "outputId": "8ea1d43e-5d4a-4416-a926-29041f185af8"
      },
      "source": [
        "Y"
      ],
      "execution_count": 56,
      "outputs": [
        {
          "output_type": "execute_result",
          "data": {
            "text/plain": [
              "array([1, 1, 0, ..., 0, 1, 1])"
            ]
          },
          "metadata": {},
          "execution_count": 56
        }
      ]
    },
    {
      "cell_type": "markdown",
      "metadata": {
        "id": "8E2rZtTOqJSH"
      },
      "source": [
        "#Partie 2 training & test"
      ]
    },
    {
      "cell_type": "code",
      "metadata": {
        "id": "M7up-Y_QqpFo"
      },
      "source": [
        "from sklearn.model_selection import train_test_split\n",
        "#importation des algorithmes\n",
        "from sklearn.tree import  DecisionTreeClassifier\n",
        "from sklearn.neural_network import MLPClassifier\n",
        "from sklearn.metrics import confusion_matrix,accuracy_score,precision_score,recall_score\n",
        "\n",
        "from sklearn.neighbors import KNeighborsClassifier \n",
        "from sklearn.ensemble import RandomForestClassifier \n",
        "from sklearn.ensemble import AdaBoostClassifier \n",
        "from sklearn.ensemble import ExtraTreesClassifier"
      ],
      "execution_count": 57,
      "outputs": []
    },
    {
      "cell_type": "code",
      "metadata": {
        "id": "fd4zXudHsZsM"
      },
      "source": [
        "Xtrain,Xtest,Ytrain,Ytest = train_test_split(X,Y,test_size=0.25,random_state=1)"
      ],
      "execution_count": 58,
      "outputs": []
    },
    {
      "cell_type": "code",
      "metadata": {
        "id": "O7XxjZ8VtIVi",
        "colab": {
          "base_uri": "https://localhost:8080/"
        },
        "outputId": "02ca1020-1b54-4b4b-8b7e-10283baaff94"
      },
      "source": [
        "Xtrain.shape"
      ],
      "execution_count": 59,
      "outputs": [
        {
          "output_type": "execute_result",
          "data": {
            "text/plain": [
              "(3281, 12)"
            ]
          },
          "metadata": {},
          "execution_count": 59
        }
      ]
    },
    {
      "cell_type": "markdown",
      "metadata": {
        "id": "bQtSjjfLuE_1"
      },
      "source": [
        "#Decision Tree"
      ]
    },
    {
      "cell_type": "code",
      "metadata": {
        "id": "MkWEDiJauIBp"
      },
      "source": [
        "def ClassifieurExited(Xtrain,Ytrain,Xtest,Ytest):\n",
        "  print('DecisionTreeClassifier')\n",
        "  DT = DecisionTreeClassifier(random_state=0, criterion='entropy')\n",
        "  #apprentissage\n",
        "  DT.fit(Xtrain,Ytrain)\n",
        "  #prediction\n",
        "  YDT = DT.predict(Xtest)\n",
        "  \n",
        "\n",
        "  acc1 = accuracy_score(Ytest,YDT)\n",
        "  pre1 = recall_score(Ytest,YDT)\n",
        "  score1= (acc1+pre1)/2\n",
        "  print('>Score = {0:.3f}'.format(score1))\n",
        "  print(\"\\n\")\n",
        "\n",
        "  \n",
        "  \n",
        "  print('MLPClassifier')\n",
        "  MLP = MLPClassifier(hidden_layer_sizes=(20,10),alpha=0.001,max_iter=200)\n",
        "  MLP.fit(Xtrain,Ytrain)\n",
        "  YMLP = MLP.predict(Xtest)\n",
        "\n",
        "  acc2 = accuracy_score(Ytest,YMLP)\n",
        "  pre2 = recall_score(Ytest,YMLP)\n",
        "  score2= (acc2+pre2)/2\n",
        "  print('>Score = {0:.3f}'.format(score2))\n",
        "  print(\"\\n\")\n",
        "\n",
        "\n",
        "  print('AdacBoost')\n",
        "  AdaC=AdaBoostClassifier(n_estimators=100, random_state=0)\n",
        "  AdaC.fit(Xtrain,Ytrain)\n",
        "  YAdaC=AdaC.predict(Xtest)\n",
        "  acc5 = accuracy_score(Ytest,YAdaC)\n",
        "  pre5 = recall_score(Ytest,YAdaC)\n",
        "  score5= (acc5+pre5)/2\n",
        "  print('>Score = {0:.3f}'.format(score5))\n",
        "  print(\"\\n\")\n",
        "\n",
        "\n",
        "  \n",
        "  print('Random Forest')\n",
        "  RF= RandomForestClassifier(n_estimators=100, random_state=1)\n",
        "  RF.fit(Xtrain,Ytrain)\n",
        "  YRF=RF.predict(Xtest)\n",
        "  acc4 = accuracy_score(Ytest,YRF)\n",
        "  pre4 = recall_score(Ytest,YRF)\n",
        "  score4= (acc4+pre4)/2\n",
        "  print('>Score = {0:.3f}'.format(score4))\n",
        "  print(\"\\n\")\n",
        "\n",
        "\n",
        "  print('KNN neighbors')\n",
        "  KNN= KNeighborsClassifier(n_neighbors=5)\n",
        "  KNN.fit(Xtrain,Ytrain)\n",
        "  YKNN=KNN.predict(Xtest)\n",
        "  acc3 = accuracy_score(Ytest,YKNN)\n",
        "  pre3 = recall_score(Ytest,YKNN)\n",
        "  score3= (acc3+pre3)/2\n",
        "  print('>Score = {0:.3f}'.format(score3))\n",
        "  print(\"\\n\")\n",
        "\n",
        "  print('extra tree')\n",
        "  ExtC=ExtraTreesClassifier(n_estimators=100, random_state=0)\n",
        "  ExtC.fit(Xtrain,Ytrain)\n",
        "  YExtC=AdaC.predict(Xtest)\n",
        "  acc6 = accuracy_score(Ytest,YExtC)\n",
        "  pre6 = recall_score(Ytest,YExtC)\n",
        "  score6= (acc6+pre6)/2\n",
        "  print('>Score = {0:.3f}'.format(score6))\n",
        "  print(\"\\n\")\n",
        "\n",
        "  "
      ],
      "execution_count": 60,
      "outputs": []
    },
    {
      "cell_type": "code",
      "metadata": {
        "id": "lcSh60WNGzv4",
        "colab": {
          "base_uri": "https://localhost:8080/"
        },
        "outputId": "f78922fa-969c-486a-df44-002419528572"
      },
      "source": [
        "ClassifieurExited(Xtrain,Ytrain,Xtest,Ytest)"
      ],
      "execution_count": 61,
      "outputs": [
        {
          "output_type": "stream",
          "name": "stdout",
          "text": [
            "DecisionTreeClassifier\n",
            ">Score = 0.762\n",
            "\n",
            "\n",
            "MLPClassifier\n",
            ">Score = 0.786\n",
            "\n",
            "\n",
            "AdacBoost\n",
            ">Score = 0.841\n",
            "\n",
            "\n",
            "Random Forest\n",
            ">Score = 0.832\n",
            "\n",
            "\n",
            "KNN neighbors\n",
            ">Score = 0.811\n",
            "\n",
            "\n",
            "extra tree\n",
            ">Score = 0.841\n",
            "\n",
            "\n"
          ]
        }
      ]
    }
  ]
}